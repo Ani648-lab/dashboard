{
 "cells": [
  {
   "cell_type": "code",
   "execution_count": 3,
   "id": "7cd5c2e3",
   "metadata": {},
   "outputs": [],
   "source": [
    "import numpy as mp\n",
    "import pandas as pd\n",
    "import matplotlib.pyplot as plt \n",
    "import seaborn as sns\n",
    "import warnings\n",
    "\n"
   ]
  },
  {
   "cell_type": "code",
   "execution_count": 16,
   "id": "f48beb1c",
   "metadata": {},
   "outputs": [
    {
     "data": {
      "text/html": [
       "<div>\n",
       "<style scoped>\n",
       "    .dataframe tbody tr th:only-of-type {\n",
       "        vertical-align: middle;\n",
       "    }\n",
       "\n",
       "    .dataframe tbody tr th {\n",
       "        vertical-align: top;\n",
       "    }\n",
       "\n",
       "    .dataframe thead th {\n",
       "        text-align: right;\n",
       "    }\n",
       "</style>\n",
       "<table border=\"1\" class=\"dataframe\">\n",
       "  <thead>\n",
       "    <tr style=\"text-align: right;\">\n",
       "      <th></th>\n",
       "      <th>episode_number</th>\n",
       "      <th>pitch_number</th>\n",
       "      <th>brand_name</th>\n",
       "      <th>idea</th>\n",
       "      <th>deal</th>\n",
       "      <th>pitcher_ask_amount</th>\n",
       "      <th>ask_equity</th>\n",
       "      <th>ask_valuation</th>\n",
       "      <th>deal_amount</th>\n",
       "      <th>deal_equity</th>\n",
       "      <th>...</th>\n",
       "      <th>ashneer_deal</th>\n",
       "      <th>anupam_deal</th>\n",
       "      <th>aman_deal</th>\n",
       "      <th>namita_deal</th>\n",
       "      <th>vineeta_deal</th>\n",
       "      <th>peyush_deal</th>\n",
       "      <th>ghazal_deal</th>\n",
       "      <th>total_sharks_invested</th>\n",
       "      <th>amount_per_shark</th>\n",
       "      <th>equity_per_shark</th>\n",
       "    </tr>\n",
       "  </thead>\n",
       "  <tbody>\n",
       "    <tr>\n",
       "      <th>0</th>\n",
       "      <td>1</td>\n",
       "      <td>1</td>\n",
       "      <td>BluePine Industries</td>\n",
       "      <td>Frozen Momos</td>\n",
       "      <td>1</td>\n",
       "      <td>50.0</td>\n",
       "      <td>5.0</td>\n",
       "      <td>1000.00</td>\n",
       "      <td>75.0</td>\n",
       "      <td>16.00</td>\n",
       "      <td>...</td>\n",
       "      <td>1</td>\n",
       "      <td>0</td>\n",
       "      <td>1</td>\n",
       "      <td>0</td>\n",
       "      <td>1</td>\n",
       "      <td>0</td>\n",
       "      <td>0</td>\n",
       "      <td>3</td>\n",
       "      <td>25.0</td>\n",
       "      <td>5.333333</td>\n",
       "    </tr>\n",
       "    <tr>\n",
       "      <th>1</th>\n",
       "      <td>1</td>\n",
       "      <td>2</td>\n",
       "      <td>Booz scooters</td>\n",
       "      <td>Renting e-bike for mobility in private spaces</td>\n",
       "      <td>1</td>\n",
       "      <td>40.0</td>\n",
       "      <td>15.0</td>\n",
       "      <td>266.67</td>\n",
       "      <td>40.0</td>\n",
       "      <td>50.00</td>\n",
       "      <td>...</td>\n",
       "      <td>1</td>\n",
       "      <td>0</td>\n",
       "      <td>0</td>\n",
       "      <td>0</td>\n",
       "      <td>1</td>\n",
       "      <td>0</td>\n",
       "      <td>0</td>\n",
       "      <td>2</td>\n",
       "      <td>20.0</td>\n",
       "      <td>25.000000</td>\n",
       "    </tr>\n",
       "    <tr>\n",
       "      <th>2</th>\n",
       "      <td>1</td>\n",
       "      <td>3</td>\n",
       "      <td>Heart up my Sleeves</td>\n",
       "      <td>Detachable Sleeves</td>\n",
       "      <td>1</td>\n",
       "      <td>25.0</td>\n",
       "      <td>10.0</td>\n",
       "      <td>250.00</td>\n",
       "      <td>25.0</td>\n",
       "      <td>30.00</td>\n",
       "      <td>...</td>\n",
       "      <td>0</td>\n",
       "      <td>1</td>\n",
       "      <td>0</td>\n",
       "      <td>0</td>\n",
       "      <td>1</td>\n",
       "      <td>0</td>\n",
       "      <td>0</td>\n",
       "      <td>2</td>\n",
       "      <td>12.5</td>\n",
       "      <td>15.000000</td>\n",
       "    </tr>\n",
       "    <tr>\n",
       "      <th>3</th>\n",
       "      <td>2</td>\n",
       "      <td>4</td>\n",
       "      <td>Tagz Foods</td>\n",
       "      <td>Healthy Potato Chips</td>\n",
       "      <td>1</td>\n",
       "      <td>70.0</td>\n",
       "      <td>1.0</td>\n",
       "      <td>7000.00</td>\n",
       "      <td>70.0</td>\n",
       "      <td>2.75</td>\n",
       "      <td>...</td>\n",
       "      <td>1</td>\n",
       "      <td>0</td>\n",
       "      <td>0</td>\n",
       "      <td>0</td>\n",
       "      <td>0</td>\n",
       "      <td>0</td>\n",
       "      <td>0</td>\n",
       "      <td>1</td>\n",
       "      <td>70.0</td>\n",
       "      <td>2.750000</td>\n",
       "    </tr>\n",
       "    <tr>\n",
       "      <th>4</th>\n",
       "      <td>2</td>\n",
       "      <td>5</td>\n",
       "      <td>Head and Heart</td>\n",
       "      <td>Brain Development Course</td>\n",
       "      <td>0</td>\n",
       "      <td>50.0</td>\n",
       "      <td>5.0</td>\n",
       "      <td>1000.00</td>\n",
       "      <td>0.0</td>\n",
       "      <td>0.00</td>\n",
       "      <td>...</td>\n",
       "      <td>0</td>\n",
       "      <td>0</td>\n",
       "      <td>0</td>\n",
       "      <td>0</td>\n",
       "      <td>0</td>\n",
       "      <td>0</td>\n",
       "      <td>0</td>\n",
       "      <td>0</td>\n",
       "      <td>0.0</td>\n",
       "      <td>0.000000</td>\n",
       "    </tr>\n",
       "    <tr>\n",
       "      <th>...</th>\n",
       "      <td>...</td>\n",
       "      <td>...</td>\n",
       "      <td>...</td>\n",
       "      <td>...</td>\n",
       "      <td>...</td>\n",
       "      <td>...</td>\n",
       "      <td>...</td>\n",
       "      <td>...</td>\n",
       "      <td>...</td>\n",
       "      <td>...</td>\n",
       "      <td>...</td>\n",
       "      <td>...</td>\n",
       "      <td>...</td>\n",
       "      <td>...</td>\n",
       "      <td>...</td>\n",
       "      <td>...</td>\n",
       "      <td>...</td>\n",
       "      <td>...</td>\n",
       "      <td>...</td>\n",
       "      <td>...</td>\n",
       "      <td>...</td>\n",
       "    </tr>\n",
       "    <tr>\n",
       "      <th>112</th>\n",
       "      <td>34</td>\n",
       "      <td>113</td>\n",
       "      <td>Green Protein</td>\n",
       "      <td>Plant-Based Protein</td>\n",
       "      <td>0</td>\n",
       "      <td>60.0</td>\n",
       "      <td>2.0</td>\n",
       "      <td>3000.00</td>\n",
       "      <td>0.0</td>\n",
       "      <td>0.00</td>\n",
       "      <td>...</td>\n",
       "      <td>0</td>\n",
       "      <td>0</td>\n",
       "      <td>0</td>\n",
       "      <td>0</td>\n",
       "      <td>0</td>\n",
       "      <td>0</td>\n",
       "      <td>0</td>\n",
       "      <td>0</td>\n",
       "      <td>0.0</td>\n",
       "      <td>0.000000</td>\n",
       "    </tr>\n",
       "    <tr>\n",
       "      <th>113</th>\n",
       "      <td>34</td>\n",
       "      <td>114</td>\n",
       "      <td>On2Cook</td>\n",
       "      <td>Fastest Cooking Device</td>\n",
       "      <td>0</td>\n",
       "      <td>100.0</td>\n",
       "      <td>1.0</td>\n",
       "      <td>10000.00</td>\n",
       "      <td>0.0</td>\n",
       "      <td>0.00</td>\n",
       "      <td>...</td>\n",
       "      <td>0</td>\n",
       "      <td>0</td>\n",
       "      <td>0</td>\n",
       "      <td>0</td>\n",
       "      <td>0</td>\n",
       "      <td>0</td>\n",
       "      <td>0</td>\n",
       "      <td>0</td>\n",
       "      <td>0.0</td>\n",
       "      <td>0.000000</td>\n",
       "    </tr>\n",
       "    <tr>\n",
       "      <th>114</th>\n",
       "      <td>35</td>\n",
       "      <td>115</td>\n",
       "      <td>Jain Shikanji</td>\n",
       "      <td>Lemonade</td>\n",
       "      <td>1</td>\n",
       "      <td>40.0</td>\n",
       "      <td>8.0</td>\n",
       "      <td>500.00</td>\n",
       "      <td>40.0</td>\n",
       "      <td>30.00</td>\n",
       "      <td>...</td>\n",
       "      <td>1</td>\n",
       "      <td>1</td>\n",
       "      <td>1</td>\n",
       "      <td>0</td>\n",
       "      <td>1</td>\n",
       "      <td>0</td>\n",
       "      <td>0</td>\n",
       "      <td>4</td>\n",
       "      <td>10.0</td>\n",
       "      <td>7.500000</td>\n",
       "    </tr>\n",
       "    <tr>\n",
       "      <th>115</th>\n",
       "      <td>35</td>\n",
       "      <td>116</td>\n",
       "      <td>Woloo</td>\n",
       "      <td>Washroom Finder</td>\n",
       "      <td>0</td>\n",
       "      <td>50.0</td>\n",
       "      <td>4.0</td>\n",
       "      <td>1250.00</td>\n",
       "      <td>0.0</td>\n",
       "      <td>0.00</td>\n",
       "      <td>...</td>\n",
       "      <td>0</td>\n",
       "      <td>0</td>\n",
       "      <td>0</td>\n",
       "      <td>0</td>\n",
       "      <td>0</td>\n",
       "      <td>0</td>\n",
       "      <td>0</td>\n",
       "      <td>0</td>\n",
       "      <td>0.0</td>\n",
       "      <td>0.000000</td>\n",
       "    </tr>\n",
       "    <tr>\n",
       "      <th>116</th>\n",
       "      <td>35</td>\n",
       "      <td>117</td>\n",
       "      <td>Elcare India</td>\n",
       "      <td>Carenting for Elders</td>\n",
       "      <td>0</td>\n",
       "      <td>100.0</td>\n",
       "      <td>2.5</td>\n",
       "      <td>4000.00</td>\n",
       "      <td>0.0</td>\n",
       "      <td>0.00</td>\n",
       "      <td>...</td>\n",
       "      <td>0</td>\n",
       "      <td>0</td>\n",
       "      <td>0</td>\n",
       "      <td>0</td>\n",
       "      <td>0</td>\n",
       "      <td>0</td>\n",
       "      <td>0</td>\n",
       "      <td>0</td>\n",
       "      <td>0.0</td>\n",
       "      <td>0.000000</td>\n",
       "    </tr>\n",
       "  </tbody>\n",
       "</table>\n",
       "<p>117 rows × 28 columns</p>\n",
       "</div>"
      ],
      "text/plain": [
       "     episode_number  pitch_number           brand_name  \\\n",
       "0                 1             1  BluePine Industries   \n",
       "1                 1             2        Booz scooters   \n",
       "2                 1             3  Heart up my Sleeves   \n",
       "3                 2             4           Tagz Foods   \n",
       "4                 2             5       Head and Heart   \n",
       "..              ...           ...                  ...   \n",
       "112              34           113        Green Protein   \n",
       "113              34           114              On2Cook   \n",
       "114              35           115        Jain Shikanji   \n",
       "115              35           116                Woloo   \n",
       "116              35           117         Elcare India   \n",
       "\n",
       "                                              idea  deal  pitcher_ask_amount  \\\n",
       "0                                     Frozen Momos     1                50.0   \n",
       "1    Renting e-bike for mobility in private spaces     1                40.0   \n",
       "2                               Detachable Sleeves     1                25.0   \n",
       "3                             Healthy Potato Chips     1                70.0   \n",
       "4                         Brain Development Course     0                50.0   \n",
       "..                                             ...   ...                 ...   \n",
       "112                            Plant-Based Protein     0                60.0   \n",
       "113                         Fastest Cooking Device     0               100.0   \n",
       "114                                       Lemonade     1                40.0   \n",
       "115                                Washroom Finder     0                50.0   \n",
       "116                           Carenting for Elders     0               100.0   \n",
       "\n",
       "     ask_equity  ask_valuation  deal_amount  deal_equity  ...  ashneer_deal  \\\n",
       "0           5.0        1000.00         75.0        16.00  ...             1   \n",
       "1          15.0         266.67         40.0        50.00  ...             1   \n",
       "2          10.0         250.00         25.0        30.00  ...             0   \n",
       "3           1.0        7000.00         70.0         2.75  ...             1   \n",
       "4           5.0        1000.00          0.0         0.00  ...             0   \n",
       "..          ...            ...          ...          ...  ...           ...   \n",
       "112         2.0        3000.00          0.0         0.00  ...             0   \n",
       "113         1.0       10000.00          0.0         0.00  ...             0   \n",
       "114         8.0         500.00         40.0        30.00  ...             1   \n",
       "115         4.0        1250.00          0.0         0.00  ...             0   \n",
       "116         2.5        4000.00          0.0         0.00  ...             0   \n",
       "\n",
       "     anupam_deal  aman_deal  namita_deal  vineeta_deal  peyush_deal  \\\n",
       "0              0          1            0             1            0   \n",
       "1              0          0            0             1            0   \n",
       "2              1          0            0             1            0   \n",
       "3              0          0            0             0            0   \n",
       "4              0          0            0             0            0   \n",
       "..           ...        ...          ...           ...          ...   \n",
       "112            0          0            0             0            0   \n",
       "113            0          0            0             0            0   \n",
       "114            1          1            0             1            0   \n",
       "115            0          0            0             0            0   \n",
       "116            0          0            0             0            0   \n",
       "\n",
       "     ghazal_deal  total_sharks_invested  amount_per_shark  equity_per_shark  \n",
       "0              0                      3              25.0          5.333333  \n",
       "1              0                      2              20.0         25.000000  \n",
       "2              0                      2              12.5         15.000000  \n",
       "3              0                      1              70.0          2.750000  \n",
       "4              0                      0               0.0          0.000000  \n",
       "..           ...                    ...               ...               ...  \n",
       "112            0                      0               0.0          0.000000  \n",
       "113            0                      0               0.0          0.000000  \n",
       "114            0                      4              10.0          7.500000  \n",
       "115            0                      0               0.0          0.000000  \n",
       "116            0                      0               0.0          0.000000  \n",
       "\n",
       "[117 rows x 28 columns]"
      ]
     },
     "execution_count": 16,
     "metadata": {},
     "output_type": "execute_result"
    }
   ],
   "source": [
    "data=pd.read_excel('EDA_Shark_Tank_India.xlsx')\n",
    "data\n"
   ]
  },
  {
   "cell_type": "markdown",
   "id": "d7e937e1",
   "metadata": {},
   "source": [
    "###### Q1. Find the number of episodes?"
   ]
  },
  {
   "cell_type": "code",
   "execution_count": 17,
   "id": "d3fdfe03",
   "metadata": {},
   "outputs": [
    {
     "name": "stdout",
     "output_type": "stream",
     "text": [
      "total num of episode 35\n"
     ]
    }
   ],
   "source": [
    "A=data[\"episode_number\"].nunique()\n",
    "print(\"total num of episode\",A)"
   ]
  },
  {
   "cell_type": "markdown",
   "id": "4070c151",
   "metadata": {},
   "source": [
    "###### Q2. Max, min , mean of asked amount,asked equity, asked valuation?"
   ]
  },
  {
   "cell_type": "code",
   "execution_count": 18,
   "id": "e037c5f4",
   "metadata": {},
   "outputs": [
    {
     "name": "stdout",
     "output_type": "stream",
     "text": [
      "      pitcher_ask_amount  ask_equity  ask_valuation\n",
      "max         30000.000000   25.000000  120000.000000\n",
      "min             0.001010    0.250000       0.010000\n",
      "mean          319.854709    5.188034    3852.462479\n"
     ]
    }
   ],
   "source": [
    "B=data[[\"pitcher_ask_amount\",\"ask_equity\",\"ask_valuation\"]].agg([max, min ,\"mean\"])\n",
    "print(B)"
   ]
  },
  {
   "cell_type": "markdown",
   "id": "b24c28af",
   "metadata": {},
   "source": [
    "###### Q3. Max & Min asked- equity,asked-valuation and asked amount episode-wise?"
   ]
  },
  {
   "cell_type": "code",
   "execution_count": 20,
   "id": "8381f898",
   "metadata": {},
   "outputs": [
    {
     "name": "stdout",
     "output_type": "stream",
     "text": [
      "               pitcher_ask_amount           ask_equity       ask_valuation  \\\n",
      "                              max       min        max   min           max   \n",
      "episode_number                                                               \n",
      "1                            50.0  25.00000       15.0  5.00       1000.00   \n",
      "2                            70.0  50.00000        5.0  1.00       7000.00   \n",
      "3                           100.0  50.00000        4.0  0.25      40000.00   \n",
      "4                            75.0  50.00000       10.0  4.00       1875.00   \n",
      "5                           100.0  10.00000       20.0  1.00      10000.00   \n",
      "6                           100.0  45.00000       10.0  1.00      10000.00   \n",
      "7                           100.0  50.00000        7.5  1.00       7500.00   \n",
      "8                            56.0  30.00000        7.5  2.50       2000.00   \n",
      "9                           100.0  50.00000        5.0  2.50       2000.00   \n",
      "10                           30.0  25.00000        5.0  2.00       1500.00   \n",
      "11                        30000.0  30.00000       25.0  5.00     120000.00   \n",
      "12                           75.0  40.00000        5.0  3.00       1875.00   \n",
      "13                           50.0  30.00000       10.0  2.00       2500.00   \n",
      "14                          100.0  45.00000        5.0  3.00       3333.33   \n",
      "15                           50.0   5.00000        5.0  3.00       1250.00   \n",
      "16                           80.0  45.00000        7.0  2.00       2250.00   \n",
      "17                          150.0  50.00000       10.0  3.00       5000.00   \n",
      "18                          100.0  50.00000        4.0  1.00      10000.00   \n",
      "19                          125.0  15.00000        8.0  1.25      10000.00   \n",
      "20                           65.0  35.00000        5.0  2.00       3250.00   \n",
      "21                          100.0  35.00000       10.0  5.00       1250.00   \n",
      "22                           80.0  50.00000        5.0  2.00       3000.00   \n",
      "23                          100.0  30.00000        5.0  1.00      10000.00   \n",
      "24                           40.0  20.00000       10.0  8.00        500.00   \n",
      "25                          150.0  50.00000        4.0  2.00       7500.00   \n",
      "26                           65.0  50.00000       10.0  1.00       6500.00   \n",
      "27                          100.0   0.00101       10.0  1.00      10000.00   \n",
      "28                           90.0  50.00000        5.0  4.00       1875.00   \n",
      "29                          100.0  75.00000        5.0  3.00       2857.14   \n",
      "30                          300.0  50.00000       15.0  1.00      30000.00   \n",
      "31                           75.0  50.00000       10.0  2.00       3750.00   \n",
      "32                          200.0  35.00000        7.0  1.00       5000.00   \n",
      "33                           40.0  35.00000       10.0  1.00       3500.00   \n",
      "34                          100.0  30.00000       10.0  1.00      10000.00   \n",
      "35                          100.0  40.00000        8.0  2.50       4000.00   \n",
      "\n",
      "                         \n",
      "                    min  \n",
      "episode_number           \n",
      "1                250.00  \n",
      "2               1000.00  \n",
      "3               1875.00  \n",
      "4                500.00  \n",
      "5                 50.00  \n",
      "6                500.00  \n",
      "7                666.67  \n",
      "8                746.67  \n",
      "9               1000.00  \n",
      "10               500.00  \n",
      "11               300.00  \n",
      "12               800.00  \n",
      "13               500.00  \n",
      "14               900.00  \n",
      "15               100.00  \n",
      "16              1071.43  \n",
      "17               500.00  \n",
      "18              1250.00  \n",
      "19               300.00  \n",
      "20               700.00  \n",
      "21               470.00  \n",
      "22              1500.00  \n",
      "23               600.00  \n",
      "24               200.00  \n",
      "25              1250.00  \n",
      "26               500.00  \n",
      "27                 0.01  \n",
      "28              1000.00  \n",
      "29              1500.00  \n",
      "30               500.00  \n",
      "31               500.00  \n",
      "32               583.33  \n",
      "33               400.00  \n",
      "34               400.00  \n",
      "35               500.00  \n"
     ]
    }
   ],
   "source": [
    "C=data.groupby('episode_number')[[\"pitcher_ask_amount\",\"ask_equity\",\"ask_valuation\"]].agg([max, min ])\n",
    "print(C)"
   ]
  },
  {
   "cell_type": "markdown",
   "id": "e651475f",
   "metadata": {},
   "source": [
    "###### Q4. Brand names in which 2 ,3 or 4 sharks are invested?"
   ]
  },
  {
   "cell_type": "code",
   "execution_count": 23,
   "id": "2004efb5",
   "metadata": {},
   "outputs": [
    {
     "name": "stdout",
     "output_type": "stream",
     "text": [
      "                         brand_name  total_sharks_invested\n",
      "0               BluePine Industries                      3\n",
      "1                     Booz scooters                      2\n",
      "2               Heart up my Sleeves                      2\n",
      "9                             Cosiq                      2\n",
      "11                           Bummer                      2\n",
      "12                      Revamp Moto                      2\n",
      "18               Raising Superstars                      2\n",
      "21                     Beyond Snack                      2\n",
      "22   Vivalyf Innovations- Easy Life                      2\n",
      "24                            Altor                      2\n",
      "25                            Ariro                      2\n",
      "27                          Nuutjob                      3\n",
      "28                         Meatyour                      3\n",
      "29                        EventBeep                      3\n",
      "32                            Farda                      2\n",
      "35                             LOKA                      3\n",
      "36                            Annie                      3\n",
      "37                        Caragreen                      2\n",
      "38                  The Yarn Bazaar                      4\n",
      "39                The Renal Project                      2\n",
      "44                          Cocofit                      3\n",
      "45                     Bamboo India                      2\n",
      "47                     Beyond Water                      2\n",
      "48                        Let's Try                      2\n",
      "50                    Aas Vidyalaya                      3\n",
      "58                          WeSTOCK                      4\n",
      "64                       Get a Whey                      3\n",
      "66                  The Quirky Nari                      2\n",
      "67                   Hair Originals                      3\n",
      "75                     The Sass Bar                      2\n",
      "85               Watt Technovations                      4\n",
      "88                         Humpy A2                      3\n",
      "90         Gold Safe Solutions Ind.                      3\n",
      "91                      Wakao Foods                      3\n",
      "95                     Kabaddi Adda                      2\n",
      "108                      Tweek Labs                      3\n",
      "109                          Proxgy                      2\n",
      "110              Nomad Food Project                      4\n",
      "114                   Jain Shikanji                      4\n"
     ]
    }
   ],
   "source": [
    "D=data.loc[(data['total_sharks_invested']>1) & (data['total_sharks_invested']<5),['brand_name','total_sharks_invested']]\n",
    "print(D)"
   ]
  },
  {
   "cell_type": "markdown",
   "id": "93c8a375",
   "metadata": {},
   "source": [
    "###### Q5. Episode wise minimum and maximum of sharks invested?"
   ]
  },
  {
   "cell_type": "code",
   "execution_count": 25,
   "id": "f925cae6",
   "metadata": {},
   "outputs": [
    {
     "name": "stdout",
     "output_type": "stream",
     "text": [
      "                max  min\n",
      "episode_number          \n",
      "1                 3    2\n",
      "2                 1    0\n",
      "3                 1    0\n",
      "4                 2    0\n",
      "5                 2    0\n",
      "6                 5    0\n",
      "7                 2    0\n",
      "8                 2    1\n",
      "9                 2    0\n",
      "10                3    3\n",
      "11                2    0\n",
      "12                3    0\n",
      "13                4    2\n",
      "14                2    0\n",
      "15                3    1\n",
      "16                2    0\n",
      "17                5    0\n",
      "18                1    0\n",
      "19                4    0\n",
      "20                5    0\n",
      "21                3    1\n",
      "22                3    0\n",
      "23                1    0\n",
      "24                2    0\n",
      "25                5    0\n",
      "26                1    0\n",
      "27                4    0\n",
      "28                3    0\n",
      "29                3    0\n",
      "30                2    0\n",
      "31                1    0\n",
      "32                1    0\n",
      "33                3    0\n",
      "34                4    0\n",
      "35                4    0\n"
     ]
    }
   ],
   "source": [
    "E=data.groupby('episode_number')['total_sharks_invested'].agg([max, min])\n",
    "print(E)"
   ]
  },
  {
   "cell_type": "markdown",
   "id": "d86452cc",
   "metadata": {},
   "source": [
    "###### Q7. Brand names who ask for 1 crore and got a deal?"
   ]
  },
  {
   "cell_type": "code",
   "execution_count": 28,
   "id": "15e447ad",
   "metadata": {},
   "outputs": [
    {
     "name": "stdout",
     "output_type": "stream",
     "text": [
      "             brand_name  pitcher_ask_amount  deal_amount\n",
      "12          Revamp Moto               100.0        100.0\n",
      "39    The Renal Project               100.0        100.0\n",
      "55                 Otua               100.0          1.0\n",
      "64           Get a Whey               100.0        100.0\n",
      "71         Namhya Foods               100.0         50.0\n",
      "79  Sunfox Technologies               100.0        100.0\n",
      "87   Insurance Samadhan               100.0        100.0\n"
     ]
    }
   ],
   "source": [
    "F= data[(data['pitcher_ask_amount']==100) & (data[\"deal\"]==1)][['brand_name','pitcher_ask_amount','deal_amount']]\n",
    "print(F)"
   ]
  },
  {
   "cell_type": "markdown",
   "id": "bc81f020",
   "metadata": {},
   "source": [
    "###### Q8. Brand names where deal equity is between 0 to 50?"
   ]
  },
  {
   "cell_type": "code",
   "execution_count": 31,
   "id": "d9d125c3",
   "metadata": {},
   "outputs": [
    {
     "name": "stdout",
     "output_type": "stream",
     "text": [
      "              brand_name  ask_equity  deal_equity\n",
      "0    BluePine Industries         5.0        16.00\n",
      "1          Booz scooters        15.0        50.00\n",
      "2    Heart up my Sleeves        10.0        30.00\n",
      "3             Tagz Foods         1.0         2.75\n",
      "4         Head and Heart         5.0         0.00\n",
      "..                   ...         ...          ...\n",
      "112        Green Protein         2.0         0.00\n",
      "113              On2Cook         1.0         0.00\n",
      "114        Jain Shikanji         8.0        30.00\n",
      "115                Woloo         4.0         0.00\n",
      "116         Elcare India         2.5         0.00\n",
      "\n",
      "[116 rows x 3 columns]\n"
     ]
    }
   ],
   "source": [
    "G=data[(data['deal_equity']>=0) & (data['deal_equity']<=50)][['brand_name','ask_equity','deal_equity']]\n",
    "print(G)"
   ]
  },
  {
   "cell_type": "markdown",
   "id": "5fbe53d1",
   "metadata": {},
   "source": [
    "###### Q9. Find the number of brands participated in each episode?"
   ]
  },
  {
   "cell_type": "code",
   "execution_count": 32,
   "id": "9d042398",
   "metadata": {},
   "outputs": [
    {
     "name": "stdout",
     "output_type": "stream",
     "text": [
      "episode_number\n",
      "1     3\n",
      "2     3\n",
      "3     3\n",
      "4     3\n",
      "5     3\n",
      "6     3\n",
      "7     3\n",
      "8     3\n",
      "9     3\n",
      "10    3\n",
      "11    3\n",
      "12    3\n",
      "13    3\n",
      "14    3\n",
      "15    3\n",
      "16    4\n",
      "17    4\n",
      "18    4\n",
      "19    4\n",
      "20    3\n",
      "21    3\n",
      "22    4\n",
      "23    4\n",
      "24    3\n",
      "25    3\n",
      "26    3\n",
      "27    4\n",
      "28    3\n",
      "29    3\n",
      "30    4\n",
      "31    4\n",
      "32    4\n",
      "33    4\n",
      "34    4\n",
      "35    3\n",
      "Name: brand_name, dtype: int64\n"
     ]
    }
   ],
   "source": [
    "H=data.groupby('episode_number')['brand_name'].count()\n",
    "print(H)"
   ]
  },
  {
   "cell_type": "markdown",
   "id": "9686d63b",
   "metadata": {},
   "source": [
    "Q10. How many sharks participated in this show and What were their names?"
   ]
  },
  {
   "cell_type": "code",
   "execution_count": 34,
   "id": "d227f1ee",
   "metadata": {},
   "outputs": [
    {
     "name": "stdout",
     "output_type": "stream",
     "text": [
      "total number of sharks in this data: 7\n"
     ]
    },
    {
     "data": {
      "text/plain": [
       "Index(['ashneer_present', 'anupam_present', 'aman_present', 'namita_present',\n",
       "       'vineeta_present', 'peyush_present', 'ghazal_present'],\n",
       "      dtype='object')"
      ]
     },
     "execution_count": 34,
     "metadata": {},
     "output_type": "execute_result"
    }
   ],
   "source": [
    "print(\"total number of sharks in this data:\",len(data.columns[11:18]))\n",
    "shark_present=data.columns[11:18]\n",
    "shark_present"
   ]
  },
  {
   "cell_type": "code",
   "execution_count": 35,
   "id": "26b1d727",
   "metadata": {},
   "outputs": [],
   "source": [
    "###### Q11. Find appearance of each sharks?"
   ]
  },
  {
   "cell_type": "code",
   "execution_count": 37,
   "id": "2c188a40",
   "metadata": {},
   "outputs": [
    {
     "data": {
      "text/plain": [
       "ghazal_present      26\n",
       "vineeta_present     66\n",
       "peyush_present      88\n",
       "ashneer_present     98\n",
       "aman_present        98\n",
       "namita_present     106\n",
       "anupam_present     117\n",
       "dtype: int64"
      ]
     },
     "execution_count": 37,
     "metadata": {},
     "output_type": "execute_result"
    }
   ],
   "source": [
    "I=data[[\"ashneer_present\",\"anupam_present\",\"aman_present\",\"namita_present\",\"vineeta_present\",\"peyush_present\",\"ghazal_present\"]]\n",
    "Present=I.sum().sort_values()\n",
    "Present"
   ]
  },
  {
   "cell_type": "markdown",
   "id": "e2b438bd",
   "metadata": {},
   "source": [
    "###### Q12. How many entrepreneurs were present?"
   ]
  },
  {
   "cell_type": "code",
   "execution_count": 38,
   "id": "10c41e6a",
   "metadata": {},
   "outputs": [
    {
     "name": "stdout",
     "output_type": "stream",
     "text": [
      "117\n"
     ]
    }
   ],
   "source": [
    "J=data[\"pitch_number\"].nunique()\n",
    "print(J)"
   ]
  },
  {
   "cell_type": "markdown",
   "id": "cd49a508",
   "metadata": {},
   "source": [
    "###### Q13. How many times each shark invested the deal?"
   ]
  },
  {
   "cell_type": "code",
   "execution_count": 39,
   "id": "64b84638",
   "metadata": {},
   "outputs": [
    {
     "name": "stdout",
     "output_type": "stream",
     "text": [
      "No.of deals invested by each shark:\n",
      "ashneer_deal 21\n",
      "anupam_deal 24\n",
      "aman_deal 28\n",
      "namita_deal 22\n",
      "vineeta_deal 15\n",
      "peyush_deal 27\n",
      "ghazal_deal 7\n"
     ]
    }
   ],
   "source": [
    "print(\"No.of deals invested by each shark:\")\n",
    "for i in data.columns[18:25]:\n",
    "    s=data[i].sum()\n",
    "    print(i,s)"
   ]
  },
  {
   "cell_type": "markdown",
   "id": "3399388b",
   "metadata": {},
   "source": [
    "###### Q14. Find the equity percent that each sharks gets?\n"
   ]
  },
  {
   "cell_type": "code",
   "execution_count": 43,
   "id": "a590a150",
   "metadata": {},
   "outputs": [
    {
     "name": "stdout",
     "output_type": "stream",
     "text": [
      "ashneer_deal total equity 93.249999999\n",
      "anupam_deal total equity 166.35\n",
      "aman_deal total equity 160.263333334\n",
      "namita_deal total equity 134.78333333400002\n",
      "vineeta_deal total equity 131.533333333\n",
      "peyush_deal total equity 315.84999999999997\n",
      "ghazal_deal total equity 46.7\n"
     ]
    }
   ],
   "source": [
    "l = []\n",
    "for i in data.columns[18:25]:\n",
    "    x=data[data[i]==1]\n",
    "    s=x[\"equity_per_shark\"].sum()\n",
    "    l.append(s)\n",
    "    print(i,\"total equity\",s)\n"
   ]
  },
  {
   "cell_type": "code",
   "execution_count": 42,
   "id": "70f64272",
   "metadata": {},
   "outputs": [
    {
     "name": "stdout",
     "output_type": "stream",
     "text": [
      "ashneer_deal Equity percent: 8.891707112316801\n",
      "anupam_deal Equity percent: 15.862042661123454\n",
      "aman_deal Equity percent: 15.281658132598478\n",
      "namita_deal Equity percent: 12.852052800434812\n",
      "vineeta_deal Equity percent: 12.542154161032869\n",
      "peyush_deal Equity percent: 30.117380069226584\n",
      "ghazal_deal Equity percent: 4.453005063266999\n"
     ]
    }
   ],
   "source": [
    "for i in data.columns[18:25]:\n",
    "    x=data[data[i]==1]\n",
    "    s=x[\"equity_per_shark\"].sum()\n",
    "    \n",
    "    print(i,\"Equity percent:\",s*100/sum(l))"
   ]
  },
  {
   "cell_type": "markdown",
   "id": "2ba1371d",
   "metadata": {},
   "source": [
    "###### Q15. Find the total number of amount invested in this show?"
   ]
  },
  {
   "cell_type": "code",
   "execution_count": 44,
   "id": "bfc716ab",
   "metadata": {},
   "outputs": [
    {
     "data": {
      "text/plain": [
       "3642.00106"
      ]
     },
     "execution_count": 44,
     "metadata": {},
     "output_type": "execute_result"
    }
   ],
   "source": [
    "x = data[data[\"deal\"]==1]\n",
    "x['deal_amount'].sum()"
   ]
  },
  {
   "cell_type": "code",
   "execution_count": null,
   "id": "baa23e11",
   "metadata": {},
   "outputs": [],
   "source": []
  }
 ],
 "metadata": {
  "kernelspec": {
   "display_name": "Python 3 (ipykernel)",
   "language": "python",
   "name": "python3"
  },
  "language_info": {
   "codemirror_mode": {
    "name": "ipython",
    "version": 3
   },
   "file_extension": ".py",
   "mimetype": "text/x-python",
   "name": "python",
   "nbconvert_exporter": "python",
   "pygments_lexer": "ipython3",
   "version": "3.9.13"
  }
 },
 "nbformat": 4,
 "nbformat_minor": 5
}
